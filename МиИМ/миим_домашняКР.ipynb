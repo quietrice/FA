{
 "cells": [
  {
   "cell_type": "markdown",
   "metadata": {},
   "source": [
    "Контрольная работа Шин А.Е ПИ19-3 Вариант 74"
   ]
  },
  {
   "cell_type": "code",
   "execution_count": 1,
   "metadata": {},
   "outputs": [],
   "source": [
    "from functools import lru_cache\n",
    "import numpy as np"
   ]
  },
  {
   "cell_type": "markdown",
   "metadata": {},
   "source": [
    "Система имеем 15 дискретных состояний. Изменение состояний происходит\n",
    "в дискретные моменты времени с заданной вероятность. "
   ]
  },
  {
   "cell_type": "code",
   "execution_count": 2,
   "metadata": {},
   "outputs": [],
   "source": [
    "def t_prob(matrix, step):                                     \n",
    "    \"\"\"Вероятность перехода из x в y за step шагов\"\"\"\n",
    "    return np.linalg.matrix_power(matrix, step)\n",
    "\n",
    "@lru_cache(maxsize=None)\n",
    "def makyr(step):\n",
    "    return t_prob(matrix, step) - sum([makyr(m) * t_prob(matrix, step - m) for m in range(1, step)])\n",
    "\n",
    "@lru_cache(maxsize=None)\n",
    "def makyr2(step):\n",
    "    res = t_prob(matrix, step) - sum([makyr2(m) * t_prob(matrix, step - m) for m in range(1, step)])\n",
    "    result.append(np.diagonal(res))\n",
    "    return res\n",
    "\n",
    "@lru_cache(maxsize=None)\n",
    "def makyr3(step):\n",
    "    res = t_prob(matrix, step) - sum([makyr3(m) * t_prob(matrix, step - m) for m in range(1, step)])\n",
    "    result.append(step * np.diagonal(res))\n",
    "    return res\n",
    "\n",
    "def mat_power_skip(left, right, step, res1=None, res2=None):   \n",
    "    rn = range(len(left))\n",
    "    # print(step)\n",
    "    right=np.array([[sum(left[i, m] * right[m, j] if m != j else 0 for m in rn) for j in rn] for i in rn])\n",
    "    if not(res1 is None):\n",
    "        res1+=right\n",
    "    if not(res2 is None):\n",
    "        res2+=(992-step)*right\n",
    "    if(step>1):\n",
    "        right, res1, res2=mat_power_skip(left, right, step-1, res1, res2)\n",
    "    \n",
    "    # print(f'3 {right}')\n",
    "    return right, res1, res2\n",
    "\n",
    "def matrix_printer(matrix):\n",
    "    for row in matrix:\n",
    "        ryad=''\n",
    "        for digit in row:\n",
    "            if(digit==0):\n",
    "                digit=int(digit)\n",
    "            ryad+=str(digit)+', '\n",
    "        print(ryad[:-2:])"
   ]
  },
  {
   "cell_type": "markdown",
   "metadata": {},
   "source": [
    "Схема марковского процесса изображена на рисунке."
   ]
  },
  {
   "cell_type": "code",
   "execution_count": 4,
   "metadata": {},
   "outputs": [],
   "source": [
    "trans_mat = np.array([\n",
    "    [0, 0, 0, 0, 0, 0, 0, 0, 0, 0, 0, 0, 0, 0, 0],\n",
    "    [0.08, 0, 0, 0.38, 0.54, 0, 0, 0, 0, 0, 0, 0, 0, 0, 0],\n",
    "    [0, 0.33, 0, 0, 0, 0, 0, 0, 0, 0, 0, 0, 0, 0, 0],\n",
    "    [0, 0, 0, 0.95, 0, 0, 0, 0, 0, 0, 0, 0, 0, 0, 0],\n",
    "    [0, 0, 0, 0, 0, 0.06, 0, 0, 0, 0, 0, 0, 0, 0, 0],\n",
    "    [0, 0, 0, 0, 0, 0, 0.84, 0, 0, 0, 0, 0, 0, 0, 0],\n",
    "    [0, 0, 0, 0, 0, 0, 0, 0.21, 0, 0, 0, 0, 0, 0, 0],\n",
    "    [0, 0, 0, 0, 0, 0, 0, 0, 0.11, 0, 0, 0, 0, 0, 0],\n",
    "    [0, 0, 0, 0, 0, 0, 0, 0, 0, 0, 0, 0, 0, 0, 0],\n",
    "    [0, 0, 0, 0, 0, 0, 0, 0, 0, 0, 0, 0, 0, 0, 0],\n",
    "    [0, 0, 0, 0, 0, 0, 0, 0, 0, 0, 0, 0, 0, 0, 0],\n",
    "    [0, 0, 0, 0, 0, 0, 0, 0, 0, 0, 0, 0, 0, 0, 0],\n",
    "    [0, 0, 0, 0, 0, 0, 0, 0, 0, 0, 0, 0, 0, 0, 0],\n",
    "    [0, 0, 0, 0, 0, 0, 0, 0, 0, 0, 0, 0, 0, 0, 0],\n",
    "    [0, 0, 0, 0, 0, 0, 0, 0, 0, 0, 0, 0, 0, 0, 0],\n",
    "\n",
    "])\n",
    "print(\"Матрица переходов:\")\n",
    "matrix_printer(trans_mat)"
   ]
  },
  {
   "cell_type": "code",
   "execution_count": 5,
   "metadata": {},
   "outputs": [
    {
     "name": "stdout",
     "output_type": "stream",
     "text": [
      "\n",
      "1. вероятность того, что за 7 шагов система перейдет из состояния 14 в состояние 12:\n",
      "0.0\n"
     ]
    }
   ],
   "source": [
    "'''1'''\n",
    "step, state_1, state_2 = 7, 14, 12\n",
    "\n",
    "print(f\"\\n1. вероятность того, что за {step} шагов система перейдет из состояния {state_1} в состояние {state_2}:\")\n",
    "print(np.linalg.matrix_power(trans_mat, step)[state_1 - 1, state_2 - 1])"
   ]
  },
  {
   "cell_type": "code",
   "execution_count": 6,
   "metadata": {},
   "outputs": [
    {
     "name": "stdout",
     "output_type": "stream",
     "text": [
      "\n",
      "2. вероятности состояний системы спустя 7 шагов, если в начальный момент вероятность состояний были следующими step=[0.01 0.   0.12 0.05 0.02 0.04 0.09 0.06 0.14 0.03 0.13 0.07 0.08 0.04\n",
      " 0.12]:\n",
      "[0.         0.         0.         0.04656072 0.         0.\n",
      " 0.         0.         0.         0.         0.         0.\n",
      " 0.         0.         0.        ]\n"
     ]
    }
   ],
   "source": [
    "'''2'''\n",
    "step = 7\n",
    "\n",
    "A = np.array([0.01,0,0.12,0.05,0.02,0.04,0.09,0.06,0.14,0.03,0.13,0.07,0.08,0.04,0.12])\n",
    "print(f\"\\n2. вероятности состояний системы спустя {step} шагов, если в начальный \"\n",
    "      f\"момент вероятность состояний были следующими step={A}:\")\n",
    "print((A.dot(np.linalg.matrix_power(trans_mat, step))))"
   ]
  },
  {
   "cell_type": "code",
   "execution_count": 7,
   "metadata": {},
   "outputs": [
    {
     "name": "stdout",
     "output_type": "stream",
     "text": [
      "\n",
      "3. вероятность первого перехода за 8 шагов из состояния 12 в состояние 8:\n",
      "0.0\n"
     ]
    }
   ],
   "source": [
    "'''3'''\n",
    "\n",
    "step, state_1, state_2 = 8, 12, 8\n",
    "\n",
    "prev = mat_power_skip(trans_mat, np.copy(trans_mat), step-1)[0]\n",
    "\n",
    "print(f\"\\n3. вероятность первого перехода за {step} шагов из состояния {state_1} в состояние {state_2}:\")\n",
    "print((prev[state_1 - 1, state_2 - 1]))"
   ]
  },
  {
   "cell_type": "code",
   "execution_count": 8,
   "metadata": {},
   "outputs": [
    {
     "name": "stdout",
     "output_type": "stream",
     "text": [
      "\n",
      "4. вероятность перехода из состояния 11 в состояние 15 не позднее чем за 8 шагов:\n",
      "0.0\n"
     ]
    }
   ],
   "source": [
    "'''4'''\n",
    "\n",
    "step, state_1, state_2 = 8, 11, 15\n",
    "res = mat_power_skip(trans_mat,  np.copy(trans_mat), step-1, res1=np.copy(trans_mat))[1]\n",
    "  \n",
    "print(f\"\\n4. вероятность перехода из состояния {state_1} в состояние {state_2} не позднее чем за {step} шагов:\")\n",
    "print((res[state_1 - 1, state_2 - 1]))"
   ]
  },
  {
   "cell_type": "code",
   "execution_count": 9,
   "metadata": {},
   "outputs": [
    {
     "name": "stdout",
     "output_type": "stream",
     "text": [
      "\n",
      "5. среднее количество шагов для перехода из состояния 2 в состояние 1:\n",
      "0.08\n"
     ]
    }
   ],
   "source": [
    "'''5'''\n",
    "\n",
    "state_1, state_2 = 2, 1\n",
    "res = mat_power_skip(trans_mat, np.copy(trans_mat),993-1,res2=np.copy(trans_mat))[2]\n",
    "    \n",
    "print(f\"\\n5. среднее количество шагов для перехода из состояния {state_1} в состояние {state_2}:\")\n",
    "print((res[state_1 - 1, state_2 - 1]))"
   ]
  },
  {
   "cell_type": "code",
   "execution_count": 10,
   "metadata": {},
   "outputs": [
    {
     "name": "stdout",
     "output_type": "stream",
     "text": [
      "\n",
      "6. вероятность первого возвращения в состояние 6 за 12 шагов:\n",
      "0.0\n"
     ]
    }
   ],
   "source": [
    "'''6'''\n",
    "\n",
    "step, state_1 = 12, 6\n",
    "\n",
    "matrix = np.copy(trans_mat)\n",
    "probbb = t_prob\n",
    "\n",
    "\n",
    "print(f\"\\n6. вероятность первого возвращения в состояние {state_1} за {step} шагов:\")\n",
    "print((np.diagonal(makyr(step))[state_1 - 1]))"
   ]
  },
  {
   "cell_type": "code",
   "execution_count": 11,
   "metadata": {},
   "outputs": [
    {
     "name": "stdout",
     "output_type": "stream",
     "text": [
      "\n",
      "7. вероятность возвращения в состояние 13 не позднее чем за 8 шагов\n",
      "0.0\n"
     ]
    }
   ],
   "source": [
    "'''7'''\n",
    "\n",
    "step, state_1 = 8, 13\n",
    "\n",
    "matrix = np.copy(trans_mat)\n",
    "probbb = t_prob\n",
    "result = []\n",
    "\n",
    "\n",
    "\n",
    "makyr2(step)\n",
    "    \n",
    "\n",
    "print(f\"\\n7. вероятность возвращения в состояние {state_1} не позднее чем за {step} шагов\")\n",
    "print((sum(result)[state_1 - 1]))"
   ]
  },
  {
   "cell_type": "code",
   "execution_count": null,
   "metadata": {},
   "outputs": [],
   "source": [
    "'''8'''\n",
    "\n",
    "state_1 = 3\n",
    "\n",
    "matrix = np.copy(trans_mat)\n",
    "probbb = t_prob\n",
    "result = []\n",
    "\n",
    "\n",
    "\n",
    "makyr3(993)\n",
    "\n",
    "print(f\"\\n8. среднее время возвращения в состояние {state_1}\")\n",
    "print((sum(result)[state_1 - 1]))"
   ]
  },
  {
   "cell_type": "code",
   "execution_count": null,
   "metadata": {},
   "outputs": [],
   "source": [
    "'''9'''\n",
    "\n",
    "matrix = np.copy(trans_mat).transpose()\n",
    "np.fill_diagonal(matrix, np.diagonal(matrix) - 1)\n",
    "matrix[-1, :] = 1\n",
    "\n",
    "vect = np.zeros(len(matrix))\n",
    "vect[-1] = 1\n",
    "\n",
    "\n",
    "    \n",
    "print(\"\\n9. установившиеся вероятности:\")\n",
    "print((np.linalg.inv(matrix).dot(vect)))\n"
   ]
  },
  {
   "attachments": {
    "%D0%A1%D0%BD%D0%B8%D0%BC%D0%BE%D0%BA.PNG": {
     "image/png": "[encoded data removed]"
    }
   },
   "cell_type": "markdown",
   "metadata": {},
   "source": [
    "Задание 2\n",
    "\n",
    "Задана система массового обслуживания со следующими характеристиками:\n",
    "• интенсивность поступления λ=22\n",
    "• каналов обслуживания m=4\n",
    "• интенсивность обслуживания μ=6\n",
    "• максимальный размер очереди n=12\n",
    "![%D0%A1%D0%BD%D0%B8%D0%BC%D0%BE%D0%BA.PNG](attachment:%D0%A1%D0%BD%D0%B8%D0%BC%D0%BE%D0%BA.PNG)"
   ]
  },
  {
   "cell_type": "code",
   "execution_count": 14,
   "metadata": {},
   "outputs": [
    {
     "name": "stdout",
     "output_type": "stream",
     "text": [
      "[[ 0. 22.  0.  0.  0.  0.  0.  0.  0.  0.  0.  0.  0.  0.  0.  0.  0.]\n",
      " [ 6.  0. 22.  0.  0.  0.  0.  0.  0.  0.  0.  0.  0.  0.  0.  0.  0.]\n",
      " [ 0. 12.  0. 22.  0.  0.  0.  0.  0.  0.  0.  0.  0.  0.  0.  0.  0.]\n",
      " [ 0.  0. 18.  0. 22.  0.  0.  0.  0.  0.  0.  0.  0.  0.  0.  0.  0.]\n",
      " [ 0.  0.  0. 24.  0. 22.  0.  0.  0.  0.  0.  0.  0.  0.  0.  0.  0.]\n",
      " [ 0.  0.  0.  0. 24.  0. 22.  0.  0.  0.  0.  0.  0.  0.  0.  0.  0.]\n",
      " [ 0.  0.  0.  0.  0. 24.  0. 22.  0.  0.  0.  0.  0.  0.  0.  0.  0.]\n",
      " [ 0.  0.  0.  0.  0.  0. 24.  0. 22.  0.  0.  0.  0.  0.  0.  0.  0.]\n",
      " [ 0.  0.  0.  0.  0.  0.  0. 24.  0. 22.  0.  0.  0.  0.  0.  0.  0.]\n",
      " [ 0.  0.  0.  0.  0.  0.  0.  0. 24.  0. 22.  0.  0.  0.  0.  0.  0.]\n",
      " [ 0.  0.  0.  0.  0.  0.  0.  0.  0. 24.  0. 22.  0.  0.  0.  0.  0.]\n",
      " [ 0.  0.  0.  0.  0.  0.  0.  0.  0.  0. 24.  0. 22.  0.  0.  0.  0.]\n",
      " [ 0.  0.  0.  0.  0.  0.  0.  0.  0.  0.  0. 24.  0. 22.  0.  0.  0.]\n",
      " [ 0.  0.  0.  0.  0.  0.  0.  0.  0.  0.  0.  0. 24.  0. 22.  0.  0.]\n",
      " [ 0.  0.  0.  0.  0.  0.  0.  0.  0.  0.  0.  0.  0. 24.  0. 22.  0.]\n",
      " [ 0.  0.  0.  0.  0.  0.  0.  0.  0.  0.  0.  0.  0.  0. 24.  0. 22.]\n",
      " [ 0.  0.  0.  0.  0.  0.  0.  0.  0.  0.  0.  0.  0.  0.  0. 24.  0.]]\n"
     ]
    }
   ],
   "source": [
    "def init_matrix(n, m, la, mu):\n",
    "    size = n + m + 1\n",
    "    matrix = np.zeros((size, size))\n",
    "    np.fill_diagonal(matrix[:, 1:], la)\n",
    "    np.fill_diagonal(matrix[1:, :], [*[i * mu for i in range(1, m)], *[m * mu for j in range(n + 1)]])\n",
    "    return matrix\n",
    "\n",
    "def StProbDefiner(matrix):\n",
    "    t_matrix = np.copy(matrix).transpose()\n",
    "    np.fill_diagonal(t_matrix, [-sum(t_matrix[:, i]) for i in range(len(matrix))])\n",
    "    t_matrix[-1, :] = 1\n",
    "\n",
    "    vect = np.zeros(len(matrix))\n",
    "    vect[-1] = 1\n",
    "\n",
    "    return(np.linalg.inv(t_matrix).dot(vect))\n",
    "\n",
    "la = 22\n",
    "m = 4\n",
    "mu = 6\n",
    "n = 12\n",
    "matrix = init_matrix(n, m, la, mu)\n",
    "print(matrix)"
   ]
  },
  {
   "cell_type": "code",
   "execution_count": 15,
   "metadata": {},
   "outputs": [
    {
     "name": "stdout",
     "output_type": "stream",
     "text": [
      "\n",
      "a) Составьте граф марковского процесса, запишите систему уравнений Колмогорова и найдите установившиеся вероятности состояний:\n",
      "[0.01237312 0.04536811 0.08317488 0.10165818 0.09318667 0.08542111\n",
      " 0.07830269 0.07177746 0.06579601 0.06031301 0.05528692 0.05067968\n",
      " 0.04645637 0.04258501 0.03903626 0.03578324 0.0328013 ]\n"
     ]
    }
   ],
   "source": [
    "\"\"\"1\"\"\"\n",
    "\n",
    "print(\"\\na) Составьте граф марковского процесса, запишите систему уравнений Колмогорова и \"\n",
    "      \"найдите установившиеся вероятности состояний:\")\n",
    "print(StProbDefiner(matrix))"
   ]
  },
  {
   "cell_type": "code",
   "execution_count": 16,
   "metadata": {},
   "outputs": [
    {
     "name": "stdout",
     "output_type": "stream",
     "text": [
      "\n",
      "b) Найдите вероятность отказа в обслуживании:\n",
      "0.03280129918073149\n"
     ]
    }
   ],
   "source": [
    "\"\"\"2\"\"\"\n",
    "\n",
    "print(\"\\nb) Найдите вероятность отказа в обслуживании:\")\n",
    "print((StProbDefiner(matrix)[-1]))"
   ]
  },
  {
   "cell_type": "code",
   "execution_count": 17,
   "metadata": {},
   "outputs": [
    {
     "name": "stdout",
     "output_type": "stream",
     "text": [
      "\n",
      "c) Найдите относительную и абсолютную интенсивность обслуживания:\n",
      "(0.9671987008192685, 21.27837141802391)\n"
     ]
    }
   ],
   "source": [
    "\"\"\"3\"\"\"\n",
    "\n",
    "print(\"\\nc) Найдите относительную и абсолютную интенсивность обслуживания:\")\n",
    "\n",
    "print((1-StProbDefiner(matrix)[-1], (1-StProbDefiner(matrix)[-1])*la))"
   ]
  },
  {
   "cell_type": "code",
   "execution_count": 18,
   "metadata": {},
   "outputs": [
    {
     "name": "stdout",
     "output_type": "stream",
     "text": [
      "\n",
      "d) Найдите среднюю длину в очереди:\n",
      "3.6410969881068254\n"
     ]
    }
   ],
   "source": [
    "\"\"\"4\"\"\"\n",
    "\n",
    "print(\"\\nd) Найдите среднюю длину в очереди:\")\n",
    "print((sum((i * StProbDefiner(matrix)[m + i]) for i in range(1, n + 1))))"
   ]
  },
  {
   "cell_type": "code",
   "execution_count": 19,
   "metadata": {},
   "outputs": [
    {
     "name": "stdout",
     "output_type": "stream",
     "text": [
      "\n",
      "e) Найдите среднее время в очереди:\n",
      "0.16550440855031023\n"
     ]
    }
   ],
   "source": [
    "\"\"\"5\"\"\"\n",
    "\n",
    "print(\"\\ne) Найдите среднее время в очереди:\")\n",
    "print((sum(((i + 1) / (m * mu) * StProbDefiner(matrix)[m + i]) for i in range(n))))"
   ]
  },
  {
   "cell_type": "code",
   "execution_count": 20,
   "metadata": {},
   "outputs": [
    {
     "name": "stdout",
     "output_type": "stream",
     "text": [
      "\n",
      "f) Найдите среднее число занятых каналов:\n",
      "3.5463952363373177\n"
     ]
    }
   ],
   "source": [
    "\"\"\"6\"\"\"\n",
    "\n",
    "print(\"\\nf) Найдите среднее число занятых каналов:\")\n",
    "print(((sum((i * StProbDefiner(matrix)[i]) for i in range(1, m + 1)) + sum((m * StProbDefiner(matrix)[i]) for i in range(m + 1, m + n + 1)))))\n"
   ]
  },
  {
   "cell_type": "code",
   "execution_count": 21,
   "metadata": {},
   "outputs": [
    {
     "name": "stdout",
     "output_type": "stream",
     "text": [
      "\n",
      "g) Найдите вероятность того, что поступающая заявка не будет ждать в очереди:\n",
      "0.24257429354987003\n"
     ]
    }
   ],
   "source": [
    "\"\"\"7\"\"\"\n",
    "\n",
    "print(\"\\ng) Найдите вероятность того, что поступающая заявка не будет ждать в очереди:\")\n",
    "print((sum(StProbDefiner(matrix)[:m])))\n"
   ]
  },
  {
   "cell_type": "code",
   "execution_count": 22,
   "metadata": {},
   "outputs": [
    {
     "name": "stdout",
     "output_type": "stream",
     "text": [
      "\n",
      "h) Найти среднее время простоя системы массового обслуживания:\n",
      "0.045454545454545456\n"
     ]
    }
   ],
   "source": [
    "\"\"\"8\"\"\"\n",
    "\n",
    "print(\"\\nh) Найти среднее время простоя системы массового обслуживания:\")\n",
    "\n",
    "print((1 / np.sum(matrix, axis=1))[0])"
   ]
  },
  {
   "cell_type": "code",
   "execution_count": null,
   "metadata": {},
   "outputs": [],
   "source": []
  }
 ],
 "metadata": {
  "kernelspec": {
   "display_name": "Python 3",
   "language": "python",
   "name": "python3"
  },
  "language_info": {
   "codemirror_mode": {
    "name": "ipython",
    "version": 3
   },
   "file_extension": ".py",
   "mimetype": "text/x-python",
   "name": "python",
   "nbconvert_exporter": "python",
   "pygments_lexer": "ipython3",
   "version": "3.7.4"
  }
 },
 "nbformat": 4,
 "nbformat_minor": 4
}
